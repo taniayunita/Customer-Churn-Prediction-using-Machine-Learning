{
  "nbformat": 4,
  "nbformat_minor": 0,
  "metadata": {
    "colab": {
      "name": "Customer Churn Prediction using Machine Learning.ipynb",
      "provenance": [],
      "collapsed_sections": []
    },
    "kernelspec": {
      "name": "python3",
      "display_name": "Python 3"
    }
  },
  "cells": [
    {
      "cell_type": "markdown",
      "metadata": {
        "id": "irwjidFE1P35"
      },
      "source": [
        "#Latar Belakang\n",
        "DQLab Telco merupakan perusahaan Telco yang sudah mempunyai banyak cabang tersebar dimana-mana. Sejak berdiri pada tahun 2019, DQLab Telco konsisten untuk memperhatikan customer experience nya sehingga tidak akan di tinggalkan pelanggan.\n",
        "\n",
        "Walaupun baru berumur 1 tahun lebih sedikit, DQLab Telco sudah mempunyai banyak pelanggan yang beralih langganan ke kompetitior. Pihak management ingin mengurangi jumlah pelanggan yang beralih (churn) dengan menggunakan machine learning.\n",
        "\n",
        "Setelah kemarin kita mempersiapkan data sekaligus melakukan Cleansing, maka sekarang saatnya kita untuk membuat model yang tepat untuk memprediksi churn pelanggan."
      ]
    },
    {
      "cell_type": "markdown",
      "metadata": {
        "id": "buJGBse51Ur2"
      },
      "source": [
        "#Tugas dan Langkah\n",
        "\n",
        "Pada tugas kali ini, akan dilakukan Pemodelan Machine Learning dengan menggunakan data bulan lalu, yakni Juni 2020.\n",
        "\n",
        "Langkah yang akan dilakukan adalah,\n",
        "\n",
        "1. Melakukan Exploratory Data Analysis\n",
        "2. Melakukan Data Pre-Processing\n",
        "3. Melakukan Pemodelan Machine Learning\n",
        "4. Menentukan Model Terbaik"
      ]
    },
    {
      "cell_type": "markdown",
      "metadata": {
        "id": "bEPWcPjo1zcz"
      },
      "source": [
        "#Library yang dibutuhkan"
      ]
    },
    {
      "cell_type": "markdown",
      "metadata": {
        "id": "BaRcRjx813YH"
      },
      "source": [
        "**1. Pandas (Python for Data Analysis)** \n",
        "library Python yang fokus untuk proses analisis data seperti manipulasi data, persiapan data, dan pembersihan data\n",
        "> **read_csv()** digunakan untuk membaca file csv,\n",
        "> **replace()** digunakan untuk mengganti nilai,\n",
        "> **value_counts()** digunakan untuk mengitung unik dari kolom,\n",
        "> **drop()** digunakan untuk menghapus,\n",
        "> **describe()** digunakan untuk melihat deskripsi datanya,\n",
        "> **value_counts()** digunakan untuk mengitung unik dari kolom"
      ]
    },
    {
      "cell_type": "markdown",
      "metadata": {
        "id": "F5stP2dL2Qjh"
      },
      "source": [
        "**2. Matplotlib** \n",
        "library Python yang fokus pada visualisasi data seperti membuat plot grafik. Matplotlib dapat digunakan dalam skrip Python, Python dan IPython shell, server aplikasi web, dan beberapa toolkit graphical user interface (GUI) lainnya\n",
        "\n",
        "> **figure()** digunakan untuk membuat figure gambar baru,\n",
        "> **subplots()** digunakan untuk membuat gambar dan satu set subplot,\n",
        "> **title()** digunakan untuk memberi judul pada gambar,\n",
        "> **ylabel()** digunakan untuk memberi label sumbu Y pada gambar,\n",
        "> **xlabel()** digunakan untuk memberi label sumbu Y pada gambar,\n",
        "> **pie()** digunakan untuk membuat pie chart"
      ]
    },
    {
      "cell_type": "markdown",
      "metadata": {
        "id": "REiW1bTa3aTR"
      },
      "source": [
        "**3. Seaborn** \n",
        "membangun plot di atas Matplotlib dan memperkenalkan tipe plot tambahan. Ini juga membuat plot Matplotlib tradisional terlihat lebih cantik\n",
        "> **countplot()** digunakan untuk membuat plot dengan jumlah pengamatan di setiap bin kategorik variable,\n",
        "> **heatmap()** Plot rectangular data as a color-encoded matrix"
      ]
    },
    {
      "cell_type": "markdown",
      "metadata": {
        "id": "C9QyB4xx3_VJ"
      },
      "source": [
        "**4. Scikit-learn** \n",
        "library dalam Python yang menyediakan banyak algoritma Machine Learning baik untuk Supervised, Unsupervised Learning, maupun digunakan untuk mempreparasi data\n",
        "> **LabelEncoder()** digunakan untuk merubah nilai dari suatu variable menjadi 0 atau 1,\n",
        "> **train_test_split()** digunakan untuk membagi data menjadi 2 row bagian (Training & Testing),\n",
        "> **LogisticRegression()** digunakan untuk memanggil algoritma Logistic Regression,\n",
        "> **RandomForestClassifier()** digunakan untuk memanggil algoritma Random Forest Classifier,\n",
        "> **confusion_matrix()** digunakan untuk membuat confusion matrix,\n",
        "> **classification_report()** digunakan untuk membuat classification report, yang dianataranya berisi akurasi model"
      ]
    },
    {
      "cell_type": "markdown",
      "metadata": {
        "id": "AeTbj1TH4hHK"
      },
      "source": [
        "**5. Xgboost**\n",
        "library dalam Python untuk algoritma extreme gradient boosting (xgboost)\n",
        "\n",
        "> **XGBClassifier()** digunakan untuk memanggil algoritma XG Boost Classifier"
      ]
    },
    {
      "cell_type": "markdown",
      "metadata": {
        "id": "3BujXMzs4oFM"
      },
      "source": [
        "**6. Pickle** \n",
        "mengimplementasikan protokol biner untuk serializing dan de-serializing dari struktur objek Python.\n",
        "\n",
        "> **dump()** digunakan untuk menyimpan"
      ]
    },
    {
      "cell_type": "markdown",
      "metadata": {
        "id": "1NyeQB_J5BG2"
      },
      "source": [
        "#Let's get started"
      ]
    },
    {
      "cell_type": "code",
      "metadata": {
        "id": "8vc9L0N44970"
      },
      "source": [
        "#importing library\n",
        "import pandas as pd\n",
        "import numpy as np\n",
        "import matplotlib.pyplot as plt\n",
        "import seaborn as sns\n",
        "from sklearn.preprocessing import LabelEncoder\n",
        "from sklearn.model_selection import train_test_split\n",
        "from sklearn.linear_model import LogisticRegression\n",
        "from sklearn.ensemble import RandomForestClassifier\n",
        "from sklearn.ensemble import GradientBoostingClassifier\n",
        "from sklearn.metrics import confusion_matrix, classification_report\n",
        "import pickle\n",
        "from pathlib import Path"
      ],
      "execution_count": null,
      "outputs": []
    },
    {
      "cell_type": "code",
      "metadata": {
        "id": "cHX5lypT62AE"
      },
      "source": [
        "#importing data urlBiznet Network\n",
        "df_load = pd.read_csv('https://dqlab-dataset.s3-ap-southeast-1.amazonaws.com/dqlab_telco_final.csv')"
      ],
      "execution_count": null,
      "outputs": []
    },
    {
      "cell_type": "markdown",
      "metadata": {
        "id": "dHDS0H2y7NFR"
      },
      "source": [
        "**detil datanya adalah sebagai berikut :**\n",
        "\n",
        "> **UpdatedAt** Periode of Data taken,\n",
        "> **customerID** Customer ID,\n",
        "> **gender** Whether the customer is a male or a female (Male, Female),\n",
        "> **SeniorCitizen** Whether the customer is a senior citizen or not (Yes, No)\n",
        "> **Partner** Whether the customer has a partner or not (Yes, No),\n",
        "> **tenure** Number of months the customer has stayed with the company,\n",
        "> **PhoneService** Whether the customer has a phone service or not (Yes, No),\n",
        "> **InternetService** Customer’s internet service provider (Yes, No),\n",
        "> **StreamingTV** Whether the customer has streaming TV or not (Yes, No)\n",
        "> **PaperlessBilling** Whether the customer has paperless billing or not (Yes, No),\n",
        "> **MonthlyCharges** The amount charged to the customer monthly,\n",
        "> **TotalCharges** The total amount charged to the customer,\n",
        "> **Churn** Whether the customer churned or not (Yes, No)"
      ]
    },
    {
      "cell_type": "code",
      "metadata": {
        "colab": {
          "base_uri": "https://localhost:8080/"
        },
        "id": "63zng5y08NAD",
        "outputId": "81d0469f-2ab8-44b4-a24a-4b0662274199"
      },
      "source": [
        "#melihat overview data seperti kolom dan tipe datanya\n",
        "df_load.info()"
      ],
      "execution_count": null,
      "outputs": [
        {
          "output_type": "stream",
          "text": [
            "<class 'pandas.core.frame.DataFrame'>\n",
            "RangeIndex: 6950 entries, 0 to 6949\n",
            "Data columns (total 13 columns):\n",
            " #   Column            Non-Null Count  Dtype  \n",
            "---  ------            --------------  -----  \n",
            " 0   UpdatedAt         6950 non-null   int64  \n",
            " 1   customerID        6950 non-null   int64  \n",
            " 2   gender            6950 non-null   object \n",
            " 3   SeniorCitizen     6950 non-null   object \n",
            " 4   Partner           6950 non-null   object \n",
            " 5   tenure            6950 non-null   int64  \n",
            " 6   PhoneService      6950 non-null   object \n",
            " 7   StreamingTV       6950 non-null   object \n",
            " 8   InternetService   6950 non-null   object \n",
            " 9   PaperlessBilling  6950 non-null   object \n",
            " 10  MonthlyCharges    6950 non-null   float64\n",
            " 11  TotalCharges      6950 non-null   float64\n",
            " 12  Churn             6950 non-null   object \n",
            "dtypes: float64(2), int64(3), object(8)\n",
            "memory usage: 706.0+ KB\n"
          ],
          "name": "stdout"
        }
      ]
    },
    {
      "cell_type": "code",
      "metadata": {
        "colab": {
          "base_uri": "https://localhost:8080/"
        },
        "id": "sD3F14AU8e0U",
        "outputId": "e6f496bf-4d95-470e-be15-db3071e508e3"
      },
      "source": [
        "#melihat jumlah baris dan kolom\n",
        "print(df_load.shape)\n",
        "\n",
        "#melihat 5 data teratas\n",
        "print(df_load.head())\n",
        "\n",
        "#melihat unique id\n",
        "print(df_load.customerID.nunique())"
      ],
      "execution_count": null,
      "outputs": [
        {
          "output_type": "stream",
          "text": [
            "(6950, 13)\n",
            "   UpdatedAt   customerID  gender  ... MonthlyCharges TotalCharges  Churn\n",
            "0     202006  45759018157  Female  ...          29.85        29.85     No\n",
            "1     202006  45315483266    Male  ...          20.50      1198.80     No\n",
            "2     202006  45236961615    Male  ...         104.10       541.90    Yes\n",
            "3     202006  45929827382  Female  ...         115.50      8312.75     No\n",
            "4     202006  45305082233  Female  ...          81.25      4620.40     No\n",
            "\n",
            "[5 rows x 13 columns]\n",
            "6950\n"
          ],
          "name": "stdout"
        }
      ]
    },
    {
      "cell_type": "markdown",
      "metadata": {
        "id": "lECyyP4SCfVk"
      },
      "source": [
        "> terdapat 6950 baris data dan 13 kolom, serta unique id nya pun ada 6950\n"
      ]
    },
    {
      "cell_type": "markdown",
      "metadata": {
        "id": "H6YEYIHhC8QQ"
      },
      "source": [
        "# 1. Melakukan Exploratory Data Analisis (EDA)"
      ]
    },
    {
      "cell_type": "markdown",
      "metadata": {
        "id": "sYxBSEjMDD2V"
      },
      "source": [
        "Exploratory Data Analysis memungkinkan analyst memahami isi data yang digunakan, mulai dari distribusi, frekuensi, korelasi dan lainnya. Pada umumnya EDA dilakukan dengan beberapa cara:\n",
        "\n",
        "> **Univariat Analysis** — analisis deskriptif dengan satu variabel.\n",
        "> **Bivariat Analysis** — analisis relasi dengan dua variabel yang biasanya dengan target variabel.\n",
        "> **Multivariat Analysis** — analisis yang menggunakan lebih dari atau sama dengan tiga variabel.\n"
      ]
    },
    {
      "cell_type": "markdown",
      "metadata": {
        "id": "_HquXTu5DZ6g"
      },
      "source": [
        "**Dalam kasus ini,akan dilihat persebaran dari:**\n",
        "\n",
        "> Prosentase persebaran data Churn dan tidaknya dari seluruh data,\n",
        "> Persebaran data dari variable predictor terhadap label (Churn)"
      ]
    },
    {
      "cell_type": "code",
      "metadata": {
        "id": "bwqBwM3VDwIV",
        "colab": {
          "base_uri": "https://localhost:8080/",
          "height": 319
        },
        "outputId": "ee2e3f27-f57f-4b7b-a581-ce7f55a7fb0b"
      },
      "source": [
        "#import library untuk visualisasi data dan statistik\n",
        "import matplotlib.pyplot as plt\n",
        "import seaborn as sns\n",
        "import numpy as np\n",
        "\n",
        "#melakukan univariat analysis berupa data kolom churn dan memvisualisasikannya\n",
        "\n",
        "#membuat figure (frame)\n",
        "fig = plt.figure()\n",
        "ax = fig.add_axes([0,0,1,1])\n",
        "ax.axis('equal')\n",
        "\n",
        "#menentukan nama label\n",
        "labels = ['No','Yes']\n",
        "\n",
        "#menghitung value kolom curn\n",
        "churn = df_load.Churn.value_counts()\n",
        "ax.pie(churn, labels=labels, autopct='%.0f%%')\n",
        "plt.show()"
      ],
      "execution_count": null,
      "outputs": [
        {
          "output_type": "display_data",
          "data": {
            "image/png": "[encoded data removed]",
            "text/plain": [
              "<Figure size 432x288 with 1 Axes>"
            ]
          },
          "metadata": {
            "tags": []
          }
        }
      ]
    },
    {
      "cell_type": "code",
      "metadata": {
        "colab": {
          "base_uri": "https://localhost:8080/"
        },
        "id": "n4dmSr-vNK7r",
        "outputId": "7d64f886-e4ce-45f2-f657-0298a3f31874"
      },
      "source": [
        "#melihat jumlah persentase data kolom Churn dengan perhitungan\n",
        "print(df_load.value_counts(['Churn'])/6950)"
      ],
      "execution_count": null,
      "outputs": [
        {
          "output_type": "stream",
          "text": [
            "Churn\n",
            "No       0.735827\n",
            "Yes      0.264173\n",
            "dtype: float64\n"
          ],
          "name": "stdout"
        }
      ]
    },
    {
      "cell_type": "markdown",
      "metadata": {
        "id": "RKdgbXHOPLRv"
      },
      "source": [
        "hal yang dilakukan selanjutnya adalah memilih variabel predictor yang bersifat numerik dan membuat plot secara bivariat kemudian menginterpresentasikannya"
      ]
    },
    {
      "cell_type": "code",
      "metadata": {
        "id": "sk6ki372DrI0",
        "colab": {
          "base_uri": "https://localhost:8080/",
          "height": 390
        },
        "outputId": "75a7337e-d8de-4ffa-fd54-cd9c59cf3290"
      },
      "source": [
        "#membuat bin\n",
        "numerical_features = ['MonthlyCharges','TotalCharges','tenure']\n",
        "fig, ax = plt.subplots(1, 3, figsize=(15,6))\n",
        "\n",
        "df_load[df_load.Churn=='No'][numerical_features].hist(bins=20, color='blue',alpha=0.5,ax=ax)\n",
        "df_load[df_load.Churn=='Yes'][numerical_features].hist(bins=20, color='orange', alpha=0.5,ax=ax)\n",
        "plt.show()\n"
      ],
      "execution_count": null,
      "outputs": [
        {
          "output_type": "display_data",
          "data": {
            "image/png": "[encoded data removed]",
            "text/plain": [
              "<Figure size 1080x432 with 3 Axes>"
            ]
          },
          "metadata": {
            "tags": [],
            "needs_background": "light"
          }
        }
      ]
    },
    {
      "cell_type": "markdown",
      "metadata": {
        "id": "n1wRSqr805gZ"
      },
      "source": [
        "**EDA variabel kategorik**\n",
        "Selanjutnya kita akan melakukan variabel predictor yang bersifat kategorik dan membuat plot secara bivariat, kemudian menginterpresentasikannya"
      ]
    },
    {
      "cell_type": "code",
      "metadata": {
        "id": "EAPzcW20CwCf",
        "colab": {
          "base_uri": "https://localhost:8080/",
          "height": 869
        },
        "outputId": "eed94a2a-a8f1-452b-b241-f72a9c9d0868"
      },
      "source": [
        "from matplotlib import pyplot as plt\n",
        "import numpy as np\n",
        "import seaborn as sns\n",
        "sns.set(style='darkgrid')\n",
        "\n",
        "fig, ax = plt.subplots(3, 3, figsize=(14, 12))\n",
        "sns.countplot(data=df_load, x='gender', hue='Churn', ax=ax[0][0])\n",
        "sns.countplot(data=df_load, x='Partner', hue='Churn', ax=ax[0][1])\n",
        "sns.countplot(data=df_load, x='SeniorCitizen', hue='Churn', ax=ax[1][0])\n",
        "sns.countplot(data=df_load, x='PhoneService', hue='Churn', ax=ax[1][1])\n",
        "sns.countplot(data=df_load, x='StreamingTV', hue='Churn', ax=ax[2][0])\n",
        "sns.countplot(data=df_load, x='InternetService', hue='Churn', ax=ax[2][1])\n",
        "sns.countplot(data=df_load, x='PaperlessBilling', hue='Churn', ax=ax[2][2])\n",
        "plt.tight_layout()\n",
        "plt.show()"
      ],
      "execution_count": null,
      "outputs": [
        {
          "output_type": "display_data",
          "data": {
            "image/png": "[encoded data removed]",
            "text/plain": [
              "<Figure size 1008x864 with 9 Axes>"
            ]
          },
          "metadata": {
            "tags": []
          }
        }
      ]
    },
    {
      "cell_type": "markdown",
      "metadata": {
        "id": "VnuolgEx7zQt"
      },
      "source": [
        "# Kesimpulan\n",
        "Berdasarkan hasil dan analisa di atas dapat disimpulkan:\n",
        "\n",
        "pada tahap C.1 dapat kita ketahui bahwa sebaran data secara kesuluruhan customer tidak melakukan churn, dengan detil Churn sebanyak 26% dan No Churn sebanyak 74%.\n",
        "pada tahap C.2 dapat kita ketahui bahwa untuk MonthlyCharges ada kecenderungan semakin kecil nilai biaya bulanan yang dikenakan, semakin kecil juga kecenderungan untuk melakukan Churn. Untuk TotalCharges terlihat tidak ada kecenderungan apapun terhadap Churn customers. Untuk tenure ada kecenderungan semakin lama berlangganan customer, semakin kecil kecenderungan untuk melakukan Churn.\n",
        "pada tahap C.3 dapat kita ketahui bahwa tidak ada perbedaan yang signifikan untuk orang melakukan churn dilihat dari faktor jenis kelamin (gender) dan layanan telfonnya (PhoneService). Akan tetapi ada kecenderungan bahwa orang yang melakukan churn adalah orang-orang yang tidak memiliki partner (partner: No), orang-orang yang statusnya adalah senior citizen(SeniorCitizen: Yes), orang-orang yang mempunyai layanan streaming TV (StreamingTV: Yes), orang-orang yang mempunyai layanan Internet (internetService: Yes) dan orang-orang yang tagihannya paperless (PaperlessBilling: Yes)."
      ]
    },
    {
      "cell_type": "markdown",
      "metadata": {
        "id": "lF_idUx39IE_"
      },
      "source": [
        "# Menghapus Unnecessary Columns dari data\n",
        "Selanjutnya kita akan mengapus kolom yang tidak akan diikutsertakan dalam pemodelan, kemudian simpan dengan nama cleaned_df. Tampilkan 5 rows teratas nya"
      ]
    },
    {
      "cell_type": "code",
      "metadata": {
        "colab": {
          "base_uri": "https://localhost:8080/"
        },
        "id": "kSMOKOqG59l3",
        "outputId": "c39aab44-507a-4fe8-db8c-25132eb679e2"
      },
      "source": [
        "#Remove the unnecessary columns CustomerID & UpdateAt\n",
        "cleaned_df = df_load.drop(['customerID', 'UpdatedAt'], axis=1)\n",
        "print(cleaned_df)"
      ],
      "execution_count": null,
      "outputs": [
        {
          "output_type": "stream",
          "text": [
            "      gender SeniorCitizen Partner  ...  MonthlyCharges TotalCharges Churn\n",
            "0     Female            No     Yes  ...           29.85        29.85    No\n",
            "1       Male            No     Yes  ...           20.50      1198.80    No\n",
            "2       Male            No      No  ...          104.10       541.90   Yes\n",
            "3     Female            No     Yes  ...          115.50      8312.75    No\n",
            "4     Female            No     Yes  ...           81.25      4620.40    No\n",
            "...      ...           ...     ...  ...             ...          ...   ...\n",
            "6945    Male            No      No  ...           44.75        44.75    No\n",
            "6946  Female           Yes      No  ...           70.15        70.15   Yes\n",
            "6947  Female            No      No  ...           85.55        85.55   Yes\n",
            "6948  Female            No     Yes  ...          117.15      8529.50    No\n",
            "6949    Male            No      No  ...           99.25      6549.45    No\n",
            "\n",
            "[6950 rows x 11 columns]\n"
          ],
          "name": "stdout"
        }
      ]
    },
    {
      "cell_type": "code",
      "metadata": {
        "colab": {
          "base_uri": "https://localhost:8080/"
        },
        "id": "RP5e1tjW-LI-",
        "outputId": "b1e1de12-60ae-41e1-e542-00bae2a162d5"
      },
      "source": [
        "#melihat info kolom\n",
        "cleaned_df.info()"
      ],
      "execution_count": null,
      "outputs": [
        {
          "output_type": "stream",
          "text": [
            "<class 'pandas.core.frame.DataFrame'>\n",
            "RangeIndex: 6950 entries, 0 to 6949\n",
            "Data columns (total 11 columns):\n",
            " #   Column            Non-Null Count  Dtype  \n",
            "---  ------            --------------  -----  \n",
            " 0   gender            6950 non-null   object \n",
            " 1   SeniorCitizen     6950 non-null   object \n",
            " 2   Partner           6950 non-null   object \n",
            " 3   tenure            6950 non-null   int64  \n",
            " 4   PhoneService      6950 non-null   object \n",
            " 5   StreamingTV       6950 non-null   object \n",
            " 6   InternetService   6950 non-null   object \n",
            " 7   PaperlessBilling  6950 non-null   object \n",
            " 8   MonthlyCharges    6950 non-null   float64\n",
            " 9   TotalCharges      6950 non-null   float64\n",
            " 10  Churn             6950 non-null   object \n",
            "dtypes: float64(2), int64(1), object(8)\n",
            "memory usage: 597.4+ KB\n"
          ],
          "name": "stdout"
        }
      ]
    },
    {
      "cell_type": "markdown",
      "metadata": {
        "id": "pMzCFGR6AK20"
      },
      "source": [
        "# Encoding Data\n",
        "Gunakan data dari hasil dan analisa sebelumnya (cleaned_df), untuk merubah value dari data yang masih berbentuk string untuk diubah ke dalam bentuk numeric menggunakan LabelEncoder(). Gunakan describe() untuk melihat deskripsi datanya."
      ]
    },
    {
      "cell_type": "markdown",
      "metadata": {
        "id": "ATROEZmRA0hB"
      },
      "source": [
        "lakukan looping untuk semua kolom yang ada di data `cleaned_df`, dimana dalam looping tersebut gunakan if apabila kolom berbentuk number maka skip dan lanjutkan untuk kolom yang valuenya string dan rubah ke numeric menggunakan `LabelEncoder()`"
      ]
    },
    {
      "cell_type": "code",
      "metadata": {
        "colab": {
          "base_uri": "https://localhost:8080/"
        },
        "id": "561OMbFZAKJb",
        "outputId": "4a0c745c-99f9-49c5-ad9b-dfeec04ae09a"
      },
      "source": [
        "from sklearn.preprocessing import LabelEncoder\n",
        "for column in cleaned_df.columns:\n",
        "  if cleaned_df[column].dtype==np.number:continue\n",
        "  cleaned_df[column]=LabelEncoder().fit_transform(cleaned_df[column])\n",
        "  print(cleaned_df.describe())"
      ],
      "execution_count": null,
      "outputs": [
        {
          "output_type": "stream",
          "text": [
            "            gender       tenure  MonthlyCharges  TotalCharges\n",
            "count  6950.000000  6950.000000     6950.000000   6950.000000\n",
            "mean      0.504317    32.423165       64.992201   2286.058750\n",
            "std       0.500017    24.581073       30.032040   2265.702553\n",
            "min       0.000000     0.000000        0.000000     19.000000\n",
            "25%       0.000000     9.000000       36.462500    406.975000\n",
            "50%       1.000000    29.000000       70.450000   1400.850000\n",
            "75%       1.000000    55.000000       89.850000   3799.837500\n",
            "max       1.000000   124.000000      169.931250   8889.131250\n",
            "            gender  SeniorCitizen       tenure  MonthlyCharges  TotalCharges\n",
            "count  6950.000000    6950.000000  6950.000000     6950.000000   6950.000000\n",
            "mean      0.504317       0.162302    32.423165       64.992201   2286.058750\n",
            "std       0.500017       0.368754    24.581073       30.032040   2265.702553\n",
            "min       0.000000       0.000000     0.000000        0.000000     19.000000\n",
            "25%       0.000000       0.000000     9.000000       36.462500    406.975000\n",
            "50%       1.000000       0.000000    29.000000       70.450000   1400.850000\n",
            "75%       1.000000       0.000000    55.000000       89.850000   3799.837500\n",
            "max       1.000000       1.000000   124.000000      169.931250   8889.131250\n",
            "            gender  SeniorCitizen  ...  MonthlyCharges  TotalCharges\n",
            "count  6950.000000    6950.000000  ...     6950.000000   6950.000000\n",
            "mean      0.504317       0.162302  ...       64.992201   2286.058750\n",
            "std       0.500017       0.368754  ...       30.032040   2265.702553\n",
            "min       0.000000       0.000000  ...        0.000000     19.000000\n",
            "25%       0.000000       0.000000  ...       36.462500    406.975000\n",
            "50%       1.000000       0.000000  ...       70.450000   1400.850000\n",
            "75%       1.000000       0.000000  ...       89.850000   3799.837500\n",
            "max       1.000000       1.000000  ...      169.931250   8889.131250\n",
            "\n",
            "[8 rows x 6 columns]\n",
            "            gender  SeniorCitizen  ...  MonthlyCharges  TotalCharges\n",
            "count  6950.000000    6950.000000  ...     6950.000000   6950.000000\n",
            "mean      0.504317       0.162302  ...       64.992201   2286.058750\n",
            "std       0.500017       0.368754  ...       30.032040   2265.702553\n",
            "min       0.000000       0.000000  ...        0.000000     19.000000\n",
            "25%       0.000000       0.000000  ...       36.462500    406.975000\n",
            "50%       1.000000       0.000000  ...       70.450000   1400.850000\n",
            "75%       1.000000       0.000000  ...       89.850000   3799.837500\n",
            "max       1.000000       1.000000  ...      169.931250   8889.131250\n",
            "\n",
            "[8 rows x 6 columns]\n",
            "            gender  SeniorCitizen  ...  MonthlyCharges  TotalCharges\n",
            "count  6950.000000    6950.000000  ...     6950.000000   6950.000000\n",
            "mean      0.504317       0.162302  ...       64.992201   2286.058750\n",
            "std       0.500017       0.368754  ...       30.032040   2265.702553\n",
            "min       0.000000       0.000000  ...        0.000000     19.000000\n",
            "25%       0.000000       0.000000  ...       36.462500    406.975000\n",
            "50%       1.000000       0.000000  ...       70.450000   1400.850000\n",
            "75%       1.000000       0.000000  ...       89.850000   3799.837500\n",
            "max       1.000000       1.000000  ...      169.931250   8889.131250\n",
            "\n",
            "[8 rows x 7 columns]\n",
            "            gender  SeniorCitizen  ...  MonthlyCharges  TotalCharges\n",
            "count  6950.000000    6950.000000  ...     6950.000000   6950.000000\n",
            "mean      0.504317       0.162302  ...       64.992201   2286.058750\n",
            "std       0.500017       0.368754  ...       30.032040   2265.702553\n",
            "min       0.000000       0.000000  ...        0.000000     19.000000\n",
            "25%       0.000000       0.000000  ...       36.462500    406.975000\n",
            "50%       1.000000       0.000000  ...       70.450000   1400.850000\n",
            "75%       1.000000       0.000000  ...       89.850000   3799.837500\n",
            "max       1.000000       1.000000  ...      169.931250   8889.131250\n",
            "\n",
            "[8 rows x 8 columns]\n"
          ],
          "name": "stdout"
        },
        {
          "output_type": "stream",
          "text": [
            "/usr/local/lib/python3.7/dist-packages/ipykernel_launcher.py:3: DeprecationWarning: Converting `np.inexact` or `np.floating` to a dtype is deprecated. The current result is `float64` which is not strictly correct.\n",
            "  This is separate from the ipykernel package so we can avoid doing imports until\n",
            "/usr/local/lib/python3.7/dist-packages/ipykernel_launcher.py:3: DeprecationWarning: Converting `np.inexact` or `np.floating` to a dtype is deprecated. The current result is `float64` which is not strictly correct.\n",
            "  This is separate from the ipykernel package so we can avoid doing imports until\n",
            "/usr/local/lib/python3.7/dist-packages/ipykernel_launcher.py:3: DeprecationWarning: Converting `np.inexact` or `np.floating` to a dtype is deprecated. The current result is `float64` which is not strictly correct.\n",
            "  This is separate from the ipykernel package so we can avoid doing imports until\n",
            "/usr/local/lib/python3.7/dist-packages/ipykernel_launcher.py:3: DeprecationWarning: Converting `np.inexact` or `np.floating` to a dtype is deprecated. The current result is `float64` which is not strictly correct.\n",
            "  This is separate from the ipykernel package so we can avoid doing imports until\n",
            "/usr/local/lib/python3.7/dist-packages/ipykernel_launcher.py:3: DeprecationWarning: Converting `np.inexact` or `np.floating` to a dtype is deprecated. The current result is `float64` which is not strictly correct.\n",
            "  This is separate from the ipykernel package so we can avoid doing imports until\n",
            "/usr/local/lib/python3.7/dist-packages/ipykernel_launcher.py:3: DeprecationWarning: Converting `np.inexact` or `np.floating` to a dtype is deprecated. The current result is `float64` which is not strictly correct.\n",
            "  This is separate from the ipykernel package so we can avoid doing imports until\n",
            "/usr/local/lib/python3.7/dist-packages/ipykernel_launcher.py:3: DeprecationWarning: Converting `np.inexact` or `np.floating` to a dtype is deprecated. The current result is `float64` which is not strictly correct.\n",
            "  This is separate from the ipykernel package so we can avoid doing imports until\n",
            "/usr/local/lib/python3.7/dist-packages/ipykernel_launcher.py:3: DeprecationWarning: Converting `np.inexact` or `np.floating` to a dtype is deprecated. The current result is `float64` which is not strictly correct.\n",
            "  This is separate from the ipykernel package so we can avoid doing imports until\n"
          ],
          "name": "stderr"
        },
        {
          "output_type": "stream",
          "text": [
            "            gender  SeniorCitizen  ...  MonthlyCharges  TotalCharges\n",
            "count  6950.000000    6950.000000  ...     6950.000000   6950.000000\n",
            "mean      0.504317       0.162302  ...       64.992201   2286.058750\n",
            "std       0.500017       0.368754  ...       30.032040   2265.702553\n",
            "min       0.000000       0.000000  ...        0.000000     19.000000\n",
            "25%       0.000000       0.000000  ...       36.462500    406.975000\n",
            "50%       1.000000       0.000000  ...       70.450000   1400.850000\n",
            "75%       1.000000       0.000000  ...       89.850000   3799.837500\n",
            "max       1.000000       1.000000  ...      169.931250   8889.131250\n",
            "\n",
            "[8 rows x 9 columns]\n",
            "            gender  SeniorCitizen  ...  MonthlyCharges  TotalCharges\n",
            "count  6950.000000    6950.000000  ...     6950.000000   6950.000000\n",
            "mean      0.504317       0.162302  ...       64.992201   2286.058750\n",
            "std       0.500017       0.368754  ...       30.032040   2265.702553\n",
            "min       0.000000       0.000000  ...        0.000000     19.000000\n",
            "25%       0.000000       0.000000  ...       36.462500    406.975000\n",
            "50%       1.000000       0.000000  ...       70.450000   1400.850000\n",
            "75%       1.000000       0.000000  ...       89.850000   3799.837500\n",
            "max       1.000000       1.000000  ...      169.931250   8889.131250\n",
            "\n",
            "[8 rows x 10 columns]\n",
            "            gender  SeniorCitizen  ...  TotalCharges        Churn\n",
            "count  6950.000000    6950.000000  ...   6950.000000  6950.000000\n",
            "mean      0.504317       0.162302  ...   2286.058750     0.264173\n",
            "std       0.500017       0.368754  ...   2265.702553     0.440923\n",
            "min       0.000000       0.000000  ...     19.000000     0.000000\n",
            "25%       0.000000       0.000000  ...    406.975000     0.000000\n",
            "50%       1.000000       0.000000  ...   1400.850000     0.000000\n",
            "75%       1.000000       0.000000  ...   3799.837500     1.000000\n",
            "max       1.000000       1.000000  ...   8889.131250     1.000000\n",
            "\n",
            "[8 rows x 11 columns]\n"
          ],
          "name": "stdout"
        },
        {
          "output_type": "stream",
          "text": [
            "/usr/local/lib/python3.7/dist-packages/ipykernel_launcher.py:3: DeprecationWarning: Converting `np.inexact` or `np.floating` to a dtype is deprecated. The current result is `float64` which is not strictly correct.\n",
            "  This is separate from the ipykernel package so we can avoid doing imports until\n"
          ],
          "name": "stderr"
        }
      ]
    },
    {
      "cell_type": "markdown",
      "metadata": {
        "id": "Fw0hwIlECejk"
      },
      "source": [
        "# Splitting Dataset\n",
        "Gunakan data dari hasil dan analisa sebelumnya cleaned_df, untuk dibagi datasetnya menjadi 2 bagian (70% training & 30% testing) berdasarkan variable predictor (X) dan targetnya (Y). Gunakan train_test_split() untuk membagi data tersebut. Sertakan value_counts untuk mengecek apakah pembagian sudah sama proporsinya. Simpan hasil spliting data menjadi x_train, y_train, x_test & y_test"
      ]
    },
    {
      "cell_type": "code",
      "metadata": {
        "colab": {
          "base_uri": "https://localhost:8080/"
        },
        "id": "xhrH3YWxCc3_",
        "outputId": "60755632-2653-44a1-9194-c5a584d47f7f"
      },
      "source": [
        "from sklearn.model_selection import train_test_split\n",
        "# Predictor dan target\n",
        "X = cleaned_df.drop('Churn', axis = 1)\n",
        "y = cleaned_df['Churn']\n",
        "# Splitting train and test\n",
        "x_train, x_test, y_train, y_test = train_test_split(X, y, test_size=0.3, random_state=42)\n",
        "# Print according to the expected result\n",
        "print('Jumlah baris dan kolom dari x_train adalah:', x_train.shape,', sedangkan Jumlah baris dan kolom dari y_train adalah:', y_train.shape)\n",
        "print('Prosentase Churn di data Training adalah:')\n",
        "print(y_train.value_counts(normalize=True))\n",
        "print('Jumlah baris dan kolom dari x_test adalah:', x_test.shape,', sedangkan Jumlah baris dan kolom dari y_test adalah:', y_test.shape)\n",
        "print('Prosentase Churn di data Testing adalah:')\n",
        "print(y_test.value_counts(normalize=True))"
      ],
      "execution_count": null,
      "outputs": [
        {
          "output_type": "stream",
          "text": [
            "Jumlah baris dan kolom dari x_train adalah: (4865, 10) , sedangkan Jumlah baris dan kolom dari y_train adalah: (4865,)\n",
            "Prosentase Churn di data Training adalah:\n",
            "0    0.734841\n",
            "1    0.265159\n",
            "Name: Churn, dtype: float64\n",
            "Jumlah baris dan kolom dari x_test adalah: (2085, 10) , sedangkan Jumlah baris dan kolom dari y_test adalah: (2085,)\n",
            "Prosentase Churn di data Testing adalah:\n",
            "0    0.738129\n",
            "1    0.261871\n",
            "Name: Churn, dtype: float64\n"
          ],
          "name": "stdout"
        }
      ]
    },
    {
      "cell_type": "markdown",
      "metadata": {
        "id": "hJznpvqYDK62"
      },
      "source": [
        "# Kesimpulan\n",
        "Setelah kita analisis lebih lanjut, ternyata ada kolom yang tidak dibutuhkuan dalam model, yaitu Id Number pelanggannya (customerID) & periode pengambilan datanya (UpdatedAt), maka hal ini perlu dihapus. Kemudian kita lanjut mengubah value dari data yang masih berbentuk string menjadi numeric melalui encoding, setelah dilakukan terlihat di persebaran datanya khususnya kolom min dan max dari masing masing variable sudah berubah menjadi 0 & 1. Tahap terakhir adalah membagi data menjadi 2 bagian untuk keperluan modelling, setelah dilakukan terlihat dari jumlah baris dan kolom masing-masing data sudah sesuai & prosentase kolom churn juga sama dengan data di awal, hal ini mengindikasikan bahwasannya data terpisah dengan baik dan benar.\n",
        "\n"
      ]
    },
    {
      "cell_type": "markdown",
      "metadata": {
        "id": "bzOkVQS8DajS"
      },
      "source": [
        "# Pembuatan Model\n",
        "Selanjutnya kita akan membuat model dengan menggunakan Algoritma Logistic Regression.\n",
        "\n",
        "Gunakan LogisticRegression() memanggil algoritma tersebut, fit ke data train dan simpan sebagai log_model"
      ]
    },
    {
      "cell_type": "code",
      "metadata": {
        "colab": {
          "base_uri": "https://localhost:8080/"
        },
        "id": "baro8O8VC8Cl",
        "outputId": "7989f789-423d-499e-a27a-22505e68e3fd"
      },
      "source": [
        "from sklearn.linear_model import LogisticRegression\n",
        "log_model = LogisticRegression().fit(x_train, y_train)\n",
        "print('Model Logistic Regression yang terbentuk adalah: \\n',log_model)"
      ],
      "execution_count": null,
      "outputs": [
        {
          "output_type": "stream",
          "text": [
            "Model Logistic Regression yang terbentuk adalah: \n",
            " LogisticRegression(C=1.0, class_weight=None, dual=False, fit_intercept=True,\n",
            "                   intercept_scaling=1, l1_ratio=None, max_iter=100,\n",
            "                   multi_class='auto', n_jobs=None, penalty='l2',\n",
            "                   random_state=None, solver='lbfgs', tol=0.0001, verbose=0,\n",
            "                   warm_start=False)\n"
          ],
          "name": "stdout"
        },
        {
          "output_type": "stream",
          "text": [
            "/usr/local/lib/python3.7/dist-packages/sklearn/linear_model/_logistic.py:940: ConvergenceWarning: lbfgs failed to converge (status=1):\n",
            "STOP: TOTAL NO. of ITERATIONS REACHED LIMIT.\n",
            "\n",
            "Increase the number of iterations (max_iter) or scale the data as shown in:\n",
            "    https://scikit-learn.org/stable/modules/preprocessing.html\n",
            "Please also refer to the documentation for alternative solver options:\n",
            "    https://scikit-learn.org/stable/modules/linear_model.html#logistic-regression\n",
            "  extra_warning_msg=_LOGISTIC_SOLVER_CONVERGENCE_MSG)\n"
          ],
          "name": "stderr"
        }
      ]
    },
    {
      "cell_type": "markdown",
      "metadata": {
        "id": "nttdoxIfFjRP"
      },
      "source": [
        "# Performansi Model Training - Menampilkan Metrics\n",
        "Setelah kita membuat modelnya, maka lakukan perhitungan untuk memperoleh classification reportnya dan confusion matrixnya di data training seperti hasil di bawah ini. Gunakan classification_report() & confusion_matrix()"
      ]
    },
    {
      "cell_type": "code",
      "metadata": {
        "colab": {
          "base_uri": "https://localhost:8080/"
        },
        "id": "bKS09lj7Foz7",
        "outputId": "4883c64c-ba7a-44d8-feac-76a10efdb6ce"
      },
      "source": [
        "'''Gunakan log_model untuk membuat prediksi di data training (y_train_pred) melalui x_train.\n",
        "Kemudian hitung classification report & confusion matrix menggunakan y_train & y_train_pred'''\n",
        "\n",
        "from sklearn.metrics import classification_report\n",
        "#predict\n",
        "y_train_pred = log_model.predict(x_train)\n",
        "\n",
        "#print classification report\n",
        "print('Classification Report Training Model (Logistic Regression) :')\n",
        "print(classification_report(y_train, y_train_pred))"
      ],
      "execution_count": null,
      "outputs": [
        {
          "output_type": "stream",
          "text": [
            "Classification Report Training Model (Logistic Regression) :\n",
            "              precision    recall  f1-score   support\n",
            "\n",
            "           0       0.83      0.90      0.87      3575\n",
            "           1       0.65      0.50      0.56      1290\n",
            "\n",
            "    accuracy                           0.79      4865\n",
            "   macro avg       0.74      0.70      0.71      4865\n",
            "weighted avg       0.78      0.79      0.79      4865\n",
            "\n"
          ],
          "name": "stdout"
        }
      ]
    },
    {
      "cell_type": "markdown",
      "metadata": {
        "id": "HI0IoP0ZjJQ0"
      },
      "source": [
        "Setelah mendapatkan hasil classification report pada tahap sebelumnya, sekarang kita akan melakukan visualisasi terhadap report tersebut"
      ]
    },
    {
      "cell_type": "code",
      "metadata": {
        "colab": {
          "base_uri": "https://localhost:8080/",
          "height": 331
        },
        "id": "h3Enx-DeiYXw",
        "outputId": "0fd53593-22a9-434f-afdb-eed345074192"
      },
      "source": [
        "from sklearn.metrics import confusion_matrix\n",
        "from matplotlib import pyplot as plt\n",
        "import seaborn as sns\n",
        "\n",
        "# Form confusion matrix as a DataFrame\n",
        "confusion_matrix_df = pd.DataFrame((confusion_matrix(y_train, y_train_pred)), ('No churn', 'Churn'), ('No churn', 'Churn'))\n",
        "\n",
        "# Plot confusion matrix\n",
        "plt.figure()\n",
        "heatmap = sns.heatmap(confusion_matrix_df, annot=True, annot_kws={'size': 14}, fmt='d', cmap='YlGnBu')\n",
        "heatmap.yaxis.set_ticklabels(heatmap.yaxis.get_ticklabels(), rotation=0, ha='right', fontsize=14)\n",
        "heatmap.xaxis.set_ticklabels(heatmap.xaxis.get_ticklabels(), rotation=0, ha='right', fontsize=14)\n",
        "\n",
        "plt.title('Confusion Matrix for Training Model\\n(Logistic Regression)', fontsize=18, color='darkblue')\n",
        "plt.ylabel('True label', fontsize=14)\n",
        "plt.xlabel('Predicted label', fontsize=14)\n",
        "plt.show()"
      ],
      "execution_count": null,
      "outputs": [
        {
          "output_type": "display_data",
          "data": {
            "image/png": "[encoded data removed]",
            "text/plain": [
              "<Figure size 432x288 with 2 Axes>"
            ]
          },
          "metadata": {
            "tags": []
          }
        }
      ]
    },
    {
      "cell_type": "markdown",
      "metadata": {
        "id": "5wMJs7YOrXVz"
      },
      "source": [
        "# Performansi Data Testing - Menampilkan Metrics\n",
        "Setelah kita membuat modelnya, maka lakukan perhitungan untuk memperoleh classification reportnya dan confusion matrixnya di data testing seperti hasil di bawah ini. Gunakan classification_report() & confusion_matrix()"
      ]
    },
    {
      "cell_type": "code",
      "metadata": {
        "colab": {
          "base_uri": "https://localhost:8080/"
        },
        "id": "uAgKrnCcrZ4E",
        "outputId": "74d0093e-95ee-49f0-f168-0b92541b20a8"
      },
      "source": [
        "y_test_pred = log_model.predict(x_test)\n",
        "#Print Classification Report\n",
        "print('Classification Report Testing Model (Logistic Regression) :')\n",
        "print(classification_report(y_test, y_test_pred))"
      ],
      "execution_count": null,
      "outputs": [
        {
          "output_type": "stream",
          "text": [
            "Classification Report Testing Model (Logistic Regression) :\n",
            "              precision    recall  f1-score   support\n",
            "\n",
            "           0       0.83      0.90      0.87      1539\n",
            "           1       0.64      0.49      0.56       546\n",
            "\n",
            "    accuracy                           0.79      2085\n",
            "   macro avg       0.74      0.70      0.71      2085\n",
            "weighted avg       0.78      0.79      0.79      2085\n",
            "\n"
          ],
          "name": "stdout"
        }
      ]
    },
    {
      "cell_type": "markdown",
      "metadata": {
        "id": "GYEgDOz5uapI"
      },
      "source": [
        "# Performansi Data Testing - Menampilkan Plots\n",
        "Setelah menampilkan metrics pada tahap sebelumnya, sekarang kita akan melakukan visualisasi dari metrics yang sudah dihasilkan sebelumnya"
      ]
    },
    {
      "cell_type": "code",
      "metadata": {
        "colab": {
          "base_uri": "https://localhost:8080/",
          "height": 351
        },
        "id": "CZWWbdBgudkP",
        "outputId": "92bdc083-a6ae-44ca-e097-93850fd5dea8"
      },
      "source": [
        "confusion_matrix_df = pd.DataFrame((confusion_matrix(y_test, y_test_pred)), ('No churn', 'Churn'), ('No churn', 'Churn'))\n",
        "\n",
        "#Plot confusion matrix\n",
        "plt.figure()\n",
        "heatmap = sns.heatmap(confusion_matrix_df, annot=True, annot_kws={'size':14}, fmt='d', cmap='YlGnBu')\n",
        "heatmap.yaxis.set_ticklabels(heatmap.yaxis.get_ticklabels(), rotation=0, ha='right', fontsize=14)\n",
        "heatmap.xaxis.set_ticklabels(heatmap.xaxis.get_ticklabels(), rotation=0, ha='right', fontsize=14)\n",
        "\n",
        "plt.title('Confusion Matrix of Testing Model\\n (Logistic Regression)\\n', fontsize=18, color='darkblue')\n",
        "plt.ylabel('True label', fontsize=14)\n",
        "plt.xlabel('Predicted label', fontsize=14)\n",
        "plt.show()"
      ],
      "execution_count": null,
      "outputs": [
        {
          "output_type": "display_data",
          "data": {
            "image/png": "[encoded data removed]",
            "text/plain": [
              "<Figure size 432x288 with 2 Axes>"
            ]
          },
          "metadata": {
            "tags": []
          }
        }
      ]
    },
    {
      "cell_type": "markdown",
      "metadata": {
        "id": "TZ1BuHsSz6MZ"
      },
      "source": [
        "# Kesimpulan\n",
        "Dari hasil dan analisa di atas, maka:\n",
        "\n",
        "Jika kita menggunakan menggunakan algoritma logistic regression dengan memanggil LogisticRegression() dari sklearn tanpa menambahi parameter apapun, maka yang dihasilkan adalah model dengan seting default dari sklearn, untuk detilnya bisa dilihat di dokumentasinya.\n",
        "Dari data training terlihat bahwasannya model mampu memprediksi data dengan menghasilkan akurasi sebesar 80%, dengan detil tebakan churn yang sebenernya benar churn adalah 638, tebakan tidak churn yang sebenernya tidak churn adalah 3237, tebakan tidak churn yang sebenernya benar churn adalah 652 dan tebakan churn yang sebenernya tidak churn adalah 338.\n",
        "Dari data testing terlihat bahwasannya model mampu memprediksi data dengan menghasilkan akurasi sebesar 79%, dengan detil tebakan churn yang sebenernya benar churn adalah 264, tebakan tidak churn yang sebenernya tidak churn adalah 1392, tebakan tidak churn yang sebenernya benar churn adalah 282 dan tebakan churn yang sebenernya tidak churn adalah 146."
      ]
    },
    {
      "cell_type": "code",
      "metadata": {
        "colab": {
          "base_uri": "https://localhost:8080/"
        },
        "id": "wPYy5jlPz_pY",
        "outputId": "5fa78c5f-41e3-4421-fbcb-0c556a69041e"
      },
      "source": [
        "from sklearn.ensemble import RandomForestClassifier\n",
        "#Train the model\n",
        "rdf_model = RandomForestClassifier().fit(x_train, y_train)\n",
        "print(rdf_model)"
      ],
      "execution_count": null,
      "outputs": [
        {
          "output_type": "stream",
          "text": [
            "RandomForestClassifier(bootstrap=True, ccp_alpha=0.0, class_weight=None,\n",
            "                       criterion='gini', max_depth=None, max_features='auto',\n",
            "                       max_leaf_nodes=None, max_samples=None,\n",
            "                       min_impurity_decrease=0.0, min_impurity_split=None,\n",
            "                       min_samples_leaf=1, min_samples_split=2,\n",
            "                       min_weight_fraction_leaf=0.0, n_estimators=100,\n",
            "                       n_jobs=None, oob_score=False, random_state=None,\n",
            "                       verbose=0, warm_start=False)\n"
          ],
          "name": "stdout"
        }
      ]
    },
    {
      "cell_type": "markdown",
      "metadata": {
        "id": "G7z6e7sp2zYe"
      },
      "source": [
        "# Performansi Data Training - Menampilkan Metrics\n",
        "Setelah kita membuat modelnya, maka lakukan perhitungan untuk memperoleh classification reportnya dan confusion matrixnya di data training seperti hasil di bawah ini. Gunakan classification_report() & confusion_matrix()"
      ]
    },
    {
      "cell_type": "code",
      "metadata": {
        "colab": {
          "base_uri": "https://localhost:8080/"
        },
        "id": "RBd6AYJ33FbR",
        "outputId": "95c09337-be22-46bd-9b52-877af0d9066e"
      },
      "source": [
        "from sklearn.metrics import classification_report\n",
        "y_train_pred = rdf_model.predict(x_train)\n",
        "print('Classification Report Training Model (Random Forest) :')\n",
        "print(classification_report(y_train, y_train_pred))"
      ],
      "execution_count": null,
      "outputs": [
        {
          "output_type": "stream",
          "text": [
            "Classification Report Training Model (Random Forest) :\n",
            "              precision    recall  f1-score   support\n",
            "\n",
            "           0       1.00      1.00      1.00      3575\n",
            "           1       0.99      0.99      0.99      1290\n",
            "\n",
            "    accuracy                           1.00      4865\n",
            "   macro avg       1.00      0.99      0.99      4865\n",
            "weighted avg       1.00      1.00      1.00      4865\n",
            "\n"
          ],
          "name": "stdout"
        }
      ]
    },
    {
      "cell_type": "markdown",
      "metadata": {
        "id": "RdHO2lPr4Col"
      },
      "source": [
        "# Performansi Data Training - Menampilkan Plots\n",
        "Setelah menampilkan metrics pada tahap sebelumnya, selanjutnya kita akan melakukan visualisasi terhadap metrics tersebut "
      ]
    },
    {
      "cell_type": "code",
      "metadata": {
        "colab": {
          "base_uri": "https://localhost:8080/",
          "height": 331
        },
        "id": "jVvi94U54FYJ",
        "outputId": "d1194935-0df6-483c-e1fb-c484dbc26642"
      },
      "source": [
        "from matplotlib import pyplot as pyplot\n",
        "import seaborn as sns\n",
        "\n",
        "#From confusion matrix as a DataFrame\n",
        "confusion_matrix_df = pd.DataFrame((confusion_matrix(y_train, y_train_pred)), ('No Churn', 'Churn'), ('No churn', 'Churn'))\n",
        "\n",
        "plt.figure()\n",
        "heatmap = sns.heatmap(confusion_matrix_df, annot=True, annot_kws={'size':14}, fmt='d', cmap='YlGnBu')\n",
        "heatmap.yaxis.set_ticklabels(heatmap.yaxis.get_ticklabels(), rotation=0, ha='right', fontsize=14)\n",
        "heatmap.xaxis.set_ticklabels(heatmap.xaxis.get_ticklabels(), rotation=0, ha='right', fontsize=14)\n",
        "\n",
        "plt.title('Confusion Matrix for Training Model \\n (Random Forest)', fontsize=18, color='darkblue')\n",
        "plt.ylabel('True label', fontsize=14)\n",
        "plt.xlabel('Predicted label', fontsize=14)\n",
        "plt.show()"
      ],
      "execution_count": null,
      "outputs": [
        {
          "output_type": "display_data",
          "data": {
            "image/png": "[encoded data removed]",
            "text/plain": [
              "<Figure size 432x288 with 2 Axes>"
            ]
          },
          "metadata": {
            "tags": []
          }
        }
      ]
    },
    {
      "cell_type": "markdown",
      "metadata": {
        "id": "557IoxRl9nja"
      },
      "source": [
        "# Performansi Data Testing - Menampilkan Metrics\n",
        "Setelah kita membuat modelnya, maka lakukan perhitungan untuk memperoleh classification reportnya dan confusion matrixnya di data testing seperti hasil di bawah ini. Gunakan classification_report() & confusion_matrix()"
      ]
    },
    {
      "cell_type": "code",
      "metadata": {
        "colab": {
          "base_uri": "https://localhost:8080/"
        },
        "id": "qm2Xx60_9qt8",
        "outputId": "f9c0bf50-59ff-4e16-edab-c0e9a3703e03"
      },
      "source": [
        "from sklearn.metrics import classification_report\n",
        "\n",
        "#Predict\n",
        "y_test_pred = rdf_model.predict(x_test)\n",
        "#Print classification report\n",
        "print('Classification Report Testing Model (Random Forest Classifier) :')\n",
        "print(classification_report(y_test, y_test_pred))"
      ],
      "execution_count": null,
      "outputs": [
        {
          "output_type": "stream",
          "text": [
            "Classification Report Testing Model (Random Forest Classifier) :\n",
            "              precision    recall  f1-score   support\n",
            "\n",
            "           0       0.83      0.88      0.85      1539\n",
            "           1       0.59      0.48      0.53       546\n",
            "\n",
            "    accuracy                           0.78      2085\n",
            "   macro avg       0.71      0.68      0.69      2085\n",
            "weighted avg       0.76      0.78      0.77      2085\n",
            "\n"
          ],
          "name": "stdout"
        }
      ]
    },
    {
      "cell_type": "markdown",
      "metadata": {
        "id": "WUqJ70TfEeC6"
      },
      "source": [
        "# Performansi Data Testing - Menampilkan Plots\n",
        "Tampilkan visualisasi dari hasil metrics yang sudah diperoleh pada tahap sebelumnya"
      ]
    },
    {
      "cell_type": "code",
      "metadata": {
        "id": "9FARaIWFEhLm",
        "colab": {
          "base_uri": "https://localhost:8080/",
          "height": 285
        },
        "outputId": "9c92c662-09ea-4ac0-f36a-b974d9b3503e"
      },
      "source": [
        "from matplotlib import pyplot as plt\n",
        "import seaborn\n",
        "\n",
        "#From confusion matrix as a DataFrame\n",
        "confusion_matrix_df = pd.DataFrame((confusion_matrix(y_test, y_test_pred)), ('No Churn','Churn'),('No churn','Churn'))\n",
        "\n",
        "#Plot confusion matrix\n",
        "plt.figure()\n",
        "heatmap = sns.heatmap(confusion_matrix_df, annot=True, annot_kws={'size':14}, fmt='d', cmap='YlGnBu')\n",
        "heatmap.yaxis.set_ticklabels(heatmap.yaxis.get_ticklabels(),  )"
      ],
      "execution_count": null,
      "outputs": [
        {
          "output_type": "execute_result",
          "data": {
            "text/plain": [
              "[Text(0, 0.5, 'No Churn'), Text(0, 1.5, 'Churn')]"
            ]
          },
          "metadata": {
            "tags": []
          },
          "execution_count": 22
        },
        {
          "output_type": "display_data",
          "data": {
            "image/png": "[encoded data removed]",
            "text/plain": [
              "<Figure size 432x288 with 2 Axes>"
            ]
          },
          "metadata": {
            "tags": []
          }
        }
      ]
    },
    {
      "cell_type": "markdown",
      "metadata": {
        "id": "nd3aD3mgbj7N"
      },
      "source": [
        "# Pembuatan Model\n",
        "selanjutnya kita akan membuat model dengan menggunakan Algoritma Gradient Boosting Classifier.\n",
        "\n",
        " \n",
        "Gunakan GradientBoostingClassifier() memanggil algoritma tersebut, fit ke data train dan simpan sebagai gbt_model"
      ]
    },
    {
      "cell_type": "code",
      "metadata": {
        "colab": {
          "base_uri": "https://localhost:8080/"
        },
        "id": "3RgkpbVeba0E",
        "outputId": "ecf4062e-4278-4de8-ae14-2907a38c81cd"
      },
      "source": [
        "from sklearn.ensemble import GradientBoostingClassifier\n",
        "#train the model\n",
        "gbt_model = GradientBoostingClassifier().fit(x_train, y_train)\n",
        "print(gbt_model)"
      ],
      "execution_count": null,
      "outputs": [
        {
          "output_type": "stream",
          "text": [
            "GradientBoostingClassifier(ccp_alpha=0.0, criterion='friedman_mse', init=None,\n",
            "                           learning_rate=0.1, loss='deviance', max_depth=3,\n",
            "                           max_features=None, max_leaf_nodes=None,\n",
            "                           min_impurity_decrease=0.0, min_impurity_split=None,\n",
            "                           min_samples_leaf=1, min_samples_split=2,\n",
            "                           min_weight_fraction_leaf=0.0, n_estimators=100,\n",
            "                           n_iter_no_change=None, presort='deprecated',\n",
            "                           random_state=None, subsample=1.0, tol=0.0001,\n",
            "                           validation_fraction=0.1, verbose=0,\n",
            "                           warm_start=False)\n"
          ],
          "name": "stdout"
        }
      ]
    },
    {
      "cell_type": "markdown",
      "metadata": {
        "id": "dAGEMziJctdq"
      },
      "source": [
        "# Performasi Model Data Training - Menampilkan Metrics\n",
        "\n",
        "setelah kita membuat modelnya, lakukan perhitungan untuk memperoleh classification reportnya dan confusion matrixnya di data training.\n",
        "gunakan classification_report() & confusion_matrix()"
      ]
    },
    {
      "cell_type": "code",
      "metadata": {
        "colab": {
          "base_uri": "https://localhost:8080/"
        },
        "id": "ZZQNcjC8dTnZ",
        "outputId": "94605db5-3ca3-4cfe-c74b-a66c02693296"
      },
      "source": [
        "from sklearn.metrics import classification_report\n",
        "#Predict\n",
        "y_train_pred = gbt_model.predict(x_train)\n",
        "#Print classification report\n",
        "print('Classification Report Training Model (Gradient Boosting) :')\n",
        "print(classification_report(y_train, y_train_pred))"
      ],
      "execution_count": null,
      "outputs": [
        {
          "output_type": "stream",
          "text": [
            "Classification Report Training Model (Gradient Boosting) :\n",
            "              precision    recall  f1-score   support\n",
            "\n",
            "           0       0.84      0.92      0.88      3575\n",
            "           1       0.70      0.53      0.60      1290\n",
            "\n",
            "    accuracy                           0.82      4865\n",
            "   macro avg       0.77      0.72      0.74      4865\n",
            "weighted avg       0.81      0.82      0.81      4865\n",
            "\n"
          ],
          "name": "stdout"
        }
      ]
    },
    {
      "cell_type": "markdown",
      "metadata": {
        "id": "j16ekXqVdKub"
      },
      "source": [
        "# Performansi Model Data Training - Menampilkan Plots\n",
        "\n",
        "Tampilkan visualisasi dari metrics yang sudah dihasilkan sebelumnya\n"
      ]
    },
    {
      "cell_type": "code",
      "metadata": {
        "colab": {
          "base_uri": "https://localhost:8080/",
          "height": 331
        },
        "id": "vDc53BtteNsA",
        "outputId": "41e88aba-334e-42bb-954f-fcd716a6afa8"
      },
      "source": [
        "from sklearn.metrics import confusion_matrix\n",
        "from matplotlib import pyplot as plt\n",
        "import seaborn as sns\n",
        "\n",
        "#From confusion matrix as DataFrame\n",
        "\n",
        "confusion_matrix_df = pd.DataFrame((confusion_matrix(y_train, y_train_pred)), ('No churn', 'Churn'), ('No churn', 'Churn'))\n",
        "#Plot confusion matrix\n",
        "plt.figure()\n",
        "heatmap = sns.heatmap(confusion_matrix_df, annot=True, annot_kws={'size':14}, fmt='d', cmap='YlGnBu')\n",
        "heatmap.yaxis.set_ticklabels(heatmap.yaxis.get_ticklabels(), rotation=0,ha='right',fontsize=14)\n",
        "heatmap.xaxis.set_ticklabels(heatmap.xaxis.get_ticklabels(), rotation=0,ha='right',fontsize=14)\n",
        "\n",
        "plt.title('Confusion Matrix for Training Model\\n(Gradient Boosting)', fontsize=18,color='darkblue')\n",
        "plt.xlabel('True label', fontsize=14)\n",
        "plt.xlabel('Predicted label', fontsize=14)\n",
        "plt.show()"
      ],
      "execution_count": null,
      "outputs": [
        {
          "output_type": "display_data",
          "data": {
            "image/png": "[encoded data removed]",
            "text/plain": [
              "<Figure size 432x288 with 2 Axes>"
            ]
          },
          "metadata": {
            "tags": []
          }
        }
      ]
    },
    {
      "cell_type": "markdown",
      "metadata": {
        "id": "oCn7bs-ag5Zg"
      },
      "source": [
        "# Performansi Model Data Testing - Menampilkan Metrics\n",
        "Setelah kita membuat modelnya, maka lakukan perhitungan untuk memperoleh classification reportnya dan confusion matrixnya di data testing seperti hasil di bawah ini. Gunakan classification_report() & confusion_matrix()"
      ]
    },
    {
      "cell_type": "code",
      "metadata": {
        "colab": {
          "base_uri": "https://localhost:8080/"
        },
        "id": "RRECOwNJg8ON",
        "outputId": "f40323f8-18e3-438a-f917-a7256d743f1b"
      },
      "source": [
        "from sklearn.metrics import classification_report\n",
        "#predict\n",
        "y_test_pred=gbt_model.predict(x_test)\n",
        "#print classification report\n",
        "print('Classification Report Testing Model(Gradient Boosting):')\n",
        "print(classification_report(y_test, y_test_pred))"
      ],
      "execution_count": null,
      "outputs": [
        {
          "output_type": "stream",
          "text": [
            "Classification Report Testing Model(Gradient Boosting):\n",
            "              precision    recall  f1-score   support\n",
            "\n",
            "           0       0.83      0.91      0.87      1539\n",
            "           1       0.64      0.48      0.55       546\n",
            "\n",
            "    accuracy                           0.79      2085\n",
            "   macro avg       0.74      0.69      0.71      2085\n",
            "weighted avg       0.78      0.79      0.78      2085\n",
            "\n"
          ],
          "name": "stdout"
        }
      ]
    },
    {
      "cell_type": "markdown",
      "metadata": {
        "id": "vNIJ0-8kh4zw"
      },
      "source": [
        "# Performansi Model Data Testing - Menampilkan Plots\n",
        "\n",
        "Buatlah visualisasi dari metrics yang sudah dihasilkan sebelumnya"
      ]
    },
    {
      "cell_type": "code",
      "metadata": {
        "colab": {
          "base_uri": "https://localhost:8080/",
          "height": 331
        },
        "id": "7wclHKJWiAGO",
        "outputId": "c9b1644b-230f-4085-8743-15d0c1a1e61e"
      },
      "source": [
        "from matplotlib import pyplot as plt\n",
        "import seaborn as sns\n",
        "\n",
        "#From confusion matrix as a DataFrame\n",
        "from matplotlib import pyplot as plt\n",
        "import seaborn as sns\n",
        "\n",
        "# Form confusion matrix as a DataFrame\n",
        "confusion_matrix_df = pd.DataFrame((confusion_matrix(y_test, y_test_pred)), ('No churn', 'Churn'), ('No churn', 'Churn'))\n",
        "\n",
        "# Plot confusion matrix\n",
        "plt.figure()\n",
        "heatmap = sns.heatmap(confusion_matrix_df, annot=True, annot_kws={'size': 14}, fmt='d', cmap='YlGnBu')\n",
        "heatmap.yaxis.set_ticklabels(heatmap.yaxis.get_ticklabels(), rotation=0, ha='right', fontsize=14)\n",
        "heatmap.xaxis.set_ticklabels(heatmap.xaxis.get_ticklabels(), rotation=0, ha='right', fontsize=14)\n",
        "\n",
        "plt.title('Confusion Matrix for Testing Model\\n(Gradient Boosting)', fontsize=18, color='darkblue')\n",
        "plt.ylabel('True label', fontsize=14)\n",
        "plt.xlabel('Predicted label', fontsize=14)\n",
        "plt.show()"
      ],
      "execution_count": null,
      "outputs": [
        {
          "output_type": "display_data",
          "data": {
            "image/png": "[encoded data removed]",
            "text/plain": [
              "<Figure size 432x288 with 2 Axes>"
            ]
          },
          "metadata": {
            "tags": []
          }
        }
      ]
    },
    {
      "cell_type": "markdown",
      "metadata": {
        "id": "DqBS5xUKjqb4"
      },
      "source": [
        "# Kesimpulan\n",
        "Dari hasil dan analisa di atas, maka:\n",
        "\n",
        "Jika kita menggunakan menggunakan algoritma Gradient Boosting dengan memanggil GradientBoostingClassifier() dari package sklearn tanpa menambahi parameter apapun, maka yang dihasilkan adalah model dengan seting default dari sklearn, untuk detilnya bisa dilihat di dokumentasinya.\n",
        "Dari data training terlihat bahwasannya model mampu memprediksi data dengan menghasilkan akurasi sebesar 82%, dengan detil tebakan churn yang sebenernya benar churn adalah 684, tebakan tidak churn yang sebenernya tidak churn adalah 3286, tebakan tidak churn yang sebenernya benar churn adalah 606 dan tebakan churn yang sebenernya tidak churn adalah 289.\n",
        "Dari data testing terlihat bahwasannya model mampu memprediksi data dengan menghasilkan akurasi sebesar 79%, dengan detil tebakan churn yang sebenernya benar churn adalah 261, tebakan tidak churn yang sebenernya tidak churn adalah 1394, tebakan tidak churn yang sebenernya benar churn adalah 285 dan tebakan churn yang sebenernya tidak churn adalah 145."
      ]
    },
    {
      "cell_type": "markdown",
      "metadata": {
        "id": "8DwzIe0jkEyg"
      },
      "source": [
        "# Menentukan Algoritma Model Terbaik\n",
        "Model yang baik adalah model yang mampu memberikan performa bagus di fase training dan testing model.\n",
        "\n",
        "Over-Fitting adalah suatu kondisi dimana model mampu memprediksi dengan sangat baik di fase training, akan tetapi tidak mampu memprediksi sama baiknya di fase testing.\n",
        "Under-Fitting adalah suatu kondisi dimana model kurang mampu memprediksi dengan baik di fase training, akan tetapi mampu memprediksi dengan baik di fase testing.\n",
        "Appropriate-Fitting adalah suatu kondisi dimana model mampu memprediksi dengan baik di fase training maupun di fase testing."
      ]
    },
    {
      "cell_type": "code",
      "metadata": {
        "colab": {
          "base_uri": "https://localhost:8080/"
        },
        "id": "EYy0QG5tkHu7",
        "outputId": "07ccbc56-e37c-421b-ebb8-34b733dd6be7"
      },
      "source": [
        "print(log_model)"
      ],
      "execution_count": null,
      "outputs": [
        {
          "output_type": "stream",
          "text": [
            "LogisticRegression(C=1.0, class_weight=None, dual=False, fit_intercept=True,\n",
            "                   intercept_scaling=1, l1_ratio=None, max_iter=100,\n",
            "                   multi_class='auto', n_jobs=None, penalty='l2',\n",
            "                   random_state=None, solver='lbfgs', tol=0.0001, verbose=0,\n",
            "                   warm_start=False)\n"
          ],
          "name": "stdout"
        }
      ]
    },
    {
      "cell_type": "markdown",
      "metadata": {
        "id": "tEVUl71dkirR"
      },
      "source": [
        "# Kesimpulan\n",
        "Berdasarkan pemodelan yang telah dilakukan dengan menggunakan Logistic Regression, Random Forest dan Extreme Gradiant Boost, maka dapat disimpulkan untuk memprediksi churn dari pelanggan telco dengan menggunakan dataset ini model terbaiknya adalah menggunakan algortima Logistic Regression. Hal ini dikarenakan performa dari model Logistic Regression cenderung mampu memprediksi sama baiknya di fase training maupun testing (akurasi training 80%, akurasi testing 79%), dilain sisi algoritma lainnya cenderung Over-Fitting performanya. Akan tetapi hal ini tidak menjadikan kita untuk menarik kesimpulan bahwsannya jika untuk melakukan pemodelan apapun maka digunakan Logistic Regression, kita tetap harus melakukan banyak percobaan model untuk menentukan mana yang terbaik."
      ]
    },
    {
      "cell_type": "code",
      "metadata": {
        "id": "nLBjoM3Uj_-z"
      },
      "source": [
        ""
      ],
      "execution_count": null,
      "outputs": []
    }
  ]
}